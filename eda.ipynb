{
 "cells": [
  {
   "cell_type": "code",
   "execution_count": 1,
   "metadata": {},
   "outputs": [],
   "source": [
    "import pandas as pd\n",
    "import matplotlib.pyplot as plt\n",
    "import seaborn as sns"
   ]
  },
  {
   "cell_type": "code",
   "execution_count": 2,
   "metadata": {},
   "outputs": [],
   "source": [
    "data = pd.read_csv('zomatoData.csv')"
   ]
  },
  {
   "cell_type": "code",
   "execution_count": 28,
   "metadata": {},
   "outputs": [
    {
     "data": {
      "text/html": [
       "<div>\n",
       "<style scoped>\n",
       "    .dataframe tbody tr th:only-of-type {\n",
       "        vertical-align: middle;\n",
       "    }\n",
       "\n",
       "    .dataframe tbody tr th {\n",
       "        vertical-align: top;\n",
       "    }\n",
       "\n",
       "    .dataframe thead th {\n",
       "        text-align: right;\n",
       "    }\n",
       "</style>\n",
       "<table border=\"1\" class=\"dataframe\">\n",
       "  <thead>\n",
       "    <tr style=\"text-align: right;\">\n",
       "      <th></th>\n",
       "      <th>Name</th>\n",
       "      <th>Address</th>\n",
       "      <th>Phone</th>\n",
       "      <th>Rating</th>\n",
       "      <th>AvgCost</th>\n",
       "      <th>Known For</th>\n",
       "      <th>Popular Dishes</th>\n",
       "      <th>Cuisine</th>\n",
       "      <th>Reviews</th>\n",
       "      <th>Location</th>\n",
       "    </tr>\n",
       "  </thead>\n",
       "  <tbody>\n",
       "    <tr>\n",
       "      <th>0</th>\n",
       "      <td>Pizza Hut</td>\n",
       "      <td>17 &amp; 18, Corner Market, Malviya Nagar, New Delhi</td>\n",
       "      <td>918929647587</td>\n",
       "      <td>3.7</td>\n",
       "      <td>800</td>\n",
       "      <td>Casual Seating Area|Prompt Service|Reasonable ...</td>\n",
       "      <td>NaN</td>\n",
       "      <td>Pizza|Fast Food|Pasta|Beverages|Desserts|</td>\n",
       "      <td>Dining|Delivery|Casual Seating Area|Prompt Ser...</td>\n",
       "      <td>South Delhi</td>\n",
       "    </tr>\n",
       "    <tr>\n",
       "      <th>1</th>\n",
       "      <td>RollsKing</td>\n",
       "      <td>Shop 2, 10/127, Malviya Nagar, New Delhi</td>\n",
       "      <td>919560101636</td>\n",
       "      <td>3.9</td>\n",
       "      <td>300</td>\n",
       "      <td>Pocket Friendly|Tasty|Contactless Delivery|Bes...</td>\n",
       "      <td>NaN</td>\n",
       "      <td>Rolls|Fast Food|North Indian|Beverages|</td>\n",
       "      <td>Dining|Delivery|Pocket Friendly|Tasty|Contactl...</td>\n",
       "      <td>South Delhi</td>\n",
       "    </tr>\n",
       "    <tr>\n",
       "      <th>2</th>\n",
       "      <td>Punjabi Angithi</td>\n",
       "      <td>84, Ground Floor, Left Corner, Behind Hero Sho...</td>\n",
       "      <td>911149952492</td>\n",
       "      <td>4.0</td>\n",
       "      <td>200</td>\n",
       "      <td>Fast Delivery Service|Cute Packaging|Food Pres...</td>\n",
       "      <td>Chilly Momo|Veg Noodles|Dal|Momos|</td>\n",
       "      <td>North Indian|Chinese|Rolls|Momos|Street Food|P...</td>\n",
       "      <td>Chilly Momo|Veg Noodles|Dal|Momos|Fast Deliver...</td>\n",
       "      <td>South Delhi</td>\n",
       "    </tr>\n",
       "    <tr>\n",
       "      <th>3</th>\n",
       "      <td>Chicago Pizza</td>\n",
       "      <td>8-A, Hauz Khas Village, New Delhi</td>\n",
       "      <td>919540937301</td>\n",
       "      <td>3.7</td>\n",
       "      <td>700</td>\n",
       "      <td>Comforting Atmosphere|Spill Proof Packaging|Fr...</td>\n",
       "      <td>Paneer Delight Pizza|Chicago Pizza|Pizzas|Drink|</td>\n",
       "      <td>Pizza|Fast Food|</td>\n",
       "      <td>Dining|Delivery|Paneer Delight Pizza|Chicago P...</td>\n",
       "      <td>South Delhi</td>\n",
       "    </tr>\n",
       "    <tr>\n",
       "      <th>4</th>\n",
       "      <td>BOX8 - Desi Meals</td>\n",
       "      <td>F5, Ground Floor, Gautam Nagar, Gulmohar Park ...</td>\n",
       "      <td>918068172526</td>\n",
       "      <td>4.3</td>\n",
       "      <td>250</td>\n",
       "      <td>Customizable Food|Good Taste|Elaborate Menu|Fr...</td>\n",
       "      <td>NaN</td>\n",
       "      <td>North Indian|Biryani|Desserts|</td>\n",
       "      <td>Customizable Food|Good Taste|Elaborate Menu|Fr...</td>\n",
       "      <td>South Delhi</td>\n",
       "    </tr>\n",
       "  </tbody>\n",
       "</table>\n",
       "</div>"
      ],
      "text/plain": [
       "                Name                                            Address  \\\n",
       "0          Pizza Hut   17 & 18, Corner Market, Malviya Nagar, New Delhi   \n",
       "1          RollsKing           Shop 2, 10/127, Malviya Nagar, New Delhi   \n",
       "2    Punjabi Angithi  84, Ground Floor, Left Corner, Behind Hero Sho...   \n",
       "3      Chicago Pizza                  8-A, Hauz Khas Village, New Delhi   \n",
       "4  BOX8 - Desi Meals  F5, Ground Floor, Gautam Nagar, Gulmohar Park ...   \n",
       "\n",
       "          Phone  Rating  AvgCost  \\\n",
       "0  918929647587     3.7      800   \n",
       "1  919560101636     3.9      300   \n",
       "2  911149952492     4.0      200   \n",
       "3  919540937301     3.7      700   \n",
       "4  918068172526     4.3      250   \n",
       "\n",
       "                                           Known For  \\\n",
       "0  Casual Seating Area|Prompt Service|Reasonable ...   \n",
       "1  Pocket Friendly|Tasty|Contactless Delivery|Bes...   \n",
       "2  Fast Delivery Service|Cute Packaging|Food Pres...   \n",
       "3  Comforting Atmosphere|Spill Proof Packaging|Fr...   \n",
       "4  Customizable Food|Good Taste|Elaborate Menu|Fr...   \n",
       "\n",
       "                                     Popular Dishes  \\\n",
       "0                                               NaN   \n",
       "1                                               NaN   \n",
       "2                Chilly Momo|Veg Noodles|Dal|Momos|   \n",
       "3  Paneer Delight Pizza|Chicago Pizza|Pizzas|Drink|   \n",
       "4                                               NaN   \n",
       "\n",
       "                                             Cuisine  \\\n",
       "0          Pizza|Fast Food|Pasta|Beverages|Desserts|   \n",
       "1            Rolls|Fast Food|North Indian|Beverages|   \n",
       "2  North Indian|Chinese|Rolls|Momos|Street Food|P...   \n",
       "3                                   Pizza|Fast Food|   \n",
       "4                     North Indian|Biryani|Desserts|   \n",
       "\n",
       "                                             Reviews     Location  \n",
       "0  Dining|Delivery|Casual Seating Area|Prompt Ser...  South Delhi  \n",
       "1  Dining|Delivery|Pocket Friendly|Tasty|Contactl...  South Delhi  \n",
       "2  Chilly Momo|Veg Noodles|Dal|Momos|Fast Deliver...  South Delhi  \n",
       "3  Dining|Delivery|Paneer Delight Pizza|Chicago P...  South Delhi  \n",
       "4  Customizable Food|Good Taste|Elaborate Menu|Fr...  South Delhi  "
      ]
     },
     "execution_count": 28,
     "metadata": {},
     "output_type": "execute_result"
    }
   ],
   "source": [
    "data.head()"
   ]
  },
  {
   "cell_type": "code",
   "execution_count": 6,
   "metadata": {},
   "outputs": [
    {
     "data": {
      "text/plain": [
       "<AxesSubplot:>"
      ]
     },
     "execution_count": 6,
     "metadata": {},
     "output_type": "execute_result"
    },
    {
     "data": {
      "image/png": "[encoded data removed]",
      "text/plain": [
       "<Figure size 640x480 with 2 Axes>"
      ]
     },
     "metadata": {},
     "output_type": "display_data"
    }
   ],
   "source": [
    "sns.heatmap(data.select_dtypes(include=['float64', 'int64']).corr(), annot=True, fmt='.2f', cmap='coolwarm')"
   ]
  },
  {
   "cell_type": "code",
   "execution_count": 8,
   "metadata": {},
   "outputs": [
    {
     "data": {
      "text/html": [
       "<div>\n",
       "<style scoped>\n",
       "    .dataframe tbody tr th:only-of-type {\n",
       "        vertical-align: middle;\n",
       "    }\n",
       "\n",
       "    .dataframe tbody tr th {\n",
       "        vertical-align: top;\n",
       "    }\n",
       "\n",
       "    .dataframe thead th {\n",
       "        text-align: right;\n",
       "    }\n",
       "</style>\n",
       "<table border=\"1\" class=\"dataframe\">\n",
       "  <thead>\n",
       "    <tr style=\"text-align: right;\">\n",
       "      <th></th>\n",
       "      <th>Phone</th>\n",
       "      <th>Rating</th>\n",
       "      <th>AvgCost</th>\n",
       "    </tr>\n",
       "  </thead>\n",
       "  <tbody>\n",
       "    <tr>\n",
       "      <th>count</th>\n",
       "      <td>2.010000e+02</td>\n",
       "      <td>201.000000</td>\n",
       "      <td>201.000000</td>\n",
       "    </tr>\n",
       "    <tr>\n",
       "      <th>mean</th>\n",
       "      <td>9.171555e+11</td>\n",
       "      <td>4.024378</td>\n",
       "      <td>346.517413</td>\n",
       "    </tr>\n",
       "    <tr>\n",
       "      <th>std</th>\n",
       "      <td>3.418420e+09</td>\n",
       "      <td>0.190664</td>\n",
       "      <td>199.844467</td>\n",
       "    </tr>\n",
       "    <tr>\n",
       "      <th>min</th>\n",
       "      <td>9.111222e+11</td>\n",
       "      <td>3.400000</td>\n",
       "      <td>0.000000</td>\n",
       "    </tr>\n",
       "    <tr>\n",
       "      <th>25%</th>\n",
       "      <td>9.173033e+11</td>\n",
       "      <td>3.900000</td>\n",
       "      <td>200.000000</td>\n",
       "    </tr>\n",
       "    <tr>\n",
       "      <th>50%</th>\n",
       "      <td>9.185888e+11</td>\n",
       "      <td>4.000000</td>\n",
       "      <td>350.000000</td>\n",
       "    </tr>\n",
       "    <tr>\n",
       "      <th>75%</th>\n",
       "      <td>9.196673e+11</td>\n",
       "      <td>4.200000</td>\n",
       "      <td>450.000000</td>\n",
       "    </tr>\n",
       "    <tr>\n",
       "      <th>max</th>\n",
       "      <td>9.199999e+11</td>\n",
       "      <td>4.500000</td>\n",
       "      <td>900.000000</td>\n",
       "    </tr>\n",
       "  </tbody>\n",
       "</table>\n",
       "</div>"
      ],
      "text/plain": [
       "              Phone      Rating     AvgCost\n",
       "count  2.010000e+02  201.000000  201.000000\n",
       "mean   9.171555e+11    4.024378  346.517413\n",
       "std    3.418420e+09    0.190664  199.844467\n",
       "min    9.111222e+11    3.400000    0.000000\n",
       "25%    9.173033e+11    3.900000  200.000000\n",
       "50%    9.185888e+11    4.000000  350.000000\n",
       "75%    9.196673e+11    4.200000  450.000000\n",
       "max    9.199999e+11    4.500000  900.000000"
      ]
     },
     "execution_count": 8,
     "metadata": {},
     "output_type": "execute_result"
    }
   ],
   "source": [
    "data.describe()"
   ]
  },
  {
   "cell_type": "code",
   "execution_count": 10,
   "metadata": {},
   "outputs": [
    {
     "name": "stdout",
     "output_type": "stream",
     "text": [
      "<class 'pandas.core.frame.DataFrame'>\n",
      "RangeIndex: 201 entries, 0 to 200\n",
      "Data columns (total 10 columns):\n",
      " #   Column          Non-Null Count  Dtype  \n",
      "---  ------          --------------  -----  \n",
      " 0   Name            201 non-null    object \n",
      " 1   Address         201 non-null    object \n",
      " 2   Phone           201 non-null    int64  \n",
      " 3   Rating          201 non-null    float64\n",
      " 4   AvgCost         201 non-null    int64  \n",
      " 5   Known For       161 non-null    object \n",
      " 6   Popular Dishes  107 non-null    object \n",
      " 7   Cuisine         175 non-null    object \n",
      " 8   Reviews         178 non-null    object \n",
      " 9   Location        201 non-null    object \n",
      "dtypes: float64(1), int64(2), object(7)\n",
      "memory usage: 15.8+ KB\n"
     ]
    }
   ],
   "source": [
    "data.info()"
   ]
  },
  {
   "cell_type": "code",
   "execution_count": 26,
   "metadata": {},
   "outputs": [
    {
     "data": {
      "text/plain": [
       "Name               0\n",
       "Address            0\n",
       "Phone              0\n",
       "Rating             0\n",
       "AvgCost            0\n",
       "Known For         40\n",
       "Popular Dishes    94\n",
       "Cuisine           26\n",
       "Reviews           23\n",
       "Location           0\n",
       "dtype: int64"
      ]
     },
     "execution_count": 26,
     "metadata": {},
     "output_type": "execute_result"
    }
   ],
   "source": [
    "data.isnull().sum()"
   ]
  },
  {
   "cell_type": "code",
   "execution_count": 12,
   "metadata": {},
   "outputs": [
    {
     "data": {
      "text/plain": [
       "<AxesSubplot:xlabel='Rating'>"
      ]
     },
     "execution_count": 12,
     "metadata": {},
     "output_type": "execute_result"
    },
    {
     "data": {
      "image/png": "[encoded data removed]",
      "text/plain": [
       "<Figure size 640x480 with 1 Axes>"
      ]
     },
     "metadata": {},
     "output_type": "display_data"
    }
   ],
   "source": [
    "sns.boxplot(x=data['Rating'])"
   ]
  },
  {
   "cell_type": "code",
   "execution_count": 13,
   "metadata": {},
   "outputs": [
    {
     "data": {
      "text/plain": [
       "<AxesSubplot:xlabel='AvgCost'>"
      ]
     },
     "execution_count": 13,
     "metadata": {},
     "output_type": "execute_result"
    },
    {
     "data": {
      "image/png": "[encoded data removed]",
      "text/plain": [
       "<Figure size 640x480 with 1 Axes>"
      ]
     },
     "metadata": {},
     "output_type": "display_data"
    }
   ],
   "source": [
    "sns.boxplot(x=data['AvgCost'])"
   ]
  },
  {
   "cell_type": "code",
   "execution_count": 14,
   "metadata": {},
   "outputs": [],
   "source": [
    "data_new = pd.read_csv('./backend/review_tags.csv')"
   ]
  },
  {
   "cell_type": "code",
   "execution_count": 15,
   "metadata": {},
   "outputs": [
    {
     "data": {
      "text/html": [
       "<div>\n",
       "<style scoped>\n",
       "    .dataframe tbody tr th:only-of-type {\n",
       "        vertical-align: middle;\n",
       "    }\n",
       "\n",
       "    .dataframe tbody tr th {\n",
       "        vertical-align: top;\n",
       "    }\n",
       "\n",
       "    .dataframe thead th {\n",
       "        text-align: right;\n",
       "    }\n",
       "</style>\n",
       "<table border=\"1\" class=\"dataframe\">\n",
       "  <thead>\n",
       "    <tr style=\"text-align: right;\">\n",
       "      <th></th>\n",
       "      <th>Name</th>\n",
       "      <th>Address</th>\n",
       "      <th>Phone</th>\n",
       "      <th>Rating</th>\n",
       "      <th>AvgCost</th>\n",
       "      <th>Popular Dishes</th>\n",
       "      <th>Location</th>\n",
       "      <th>Pizza</th>\n",
       "      <th>Fast Food</th>\n",
       "      <th>Pasta</th>\n",
       "      <th>...</th>\n",
       "      <th>Dine-In</th>\n",
       "      <th>Hygiene</th>\n",
       "      <th>Delivery</th>\n",
       "      <th>Good Food</th>\n",
       "      <th>Ambiance</th>\n",
       "      <th>Value For Money</th>\n",
       "      <th>Packaging</th>\n",
       "      <th>Healthy</th>\n",
       "      <th>review_tags_count</th>\n",
       "      <th>cluster_description</th>\n",
       "    </tr>\n",
       "  </thead>\n",
       "  <tbody>\n",
       "    <tr>\n",
       "      <th>0</th>\n",
       "      <td>Pizza Hut</td>\n",
       "      <td>17 &amp; 18, Corner Market, Malviya Nagar, New Delhi</td>\n",
       "      <td>918929647587</td>\n",
       "      <td>3.7</td>\n",
       "      <td>800</td>\n",
       "      <td>NaN</td>\n",
       "      <td>South Delhi</td>\n",
       "      <td>1.0</td>\n",
       "      <td>1.0</td>\n",
       "      <td>1.0</td>\n",
       "      <td>...</td>\n",
       "      <td>0.0</td>\n",
       "      <td>0.0</td>\n",
       "      <td>1.0</td>\n",
       "      <td>1.0</td>\n",
       "      <td>1.0</td>\n",
       "      <td>1.0</td>\n",
       "      <td>0.0</td>\n",
       "      <td>0.0</td>\n",
       "      <td>5.0</td>\n",
       "      <td>Low Rating and High Cost</td>\n",
       "    </tr>\n",
       "    <tr>\n",
       "      <th>1</th>\n",
       "      <td>RollsKing</td>\n",
       "      <td>Shop 2, 10/127, Malviya Nagar, New Delhi</td>\n",
       "      <td>919560101636</td>\n",
       "      <td>3.9</td>\n",
       "      <td>300</td>\n",
       "      <td>NaN</td>\n",
       "      <td>South Delhi</td>\n",
       "      <td>0.0</td>\n",
       "      <td>1.0</td>\n",
       "      <td>0.0</td>\n",
       "      <td>...</td>\n",
       "      <td>1.0</td>\n",
       "      <td>0.0</td>\n",
       "      <td>1.0</td>\n",
       "      <td>1.0</td>\n",
       "      <td>0.0</td>\n",
       "      <td>1.0</td>\n",
       "      <td>0.0</td>\n",
       "      <td>0.0</td>\n",
       "      <td>5.0</td>\n",
       "      <td>Low Rating and Medium Cost</td>\n",
       "    </tr>\n",
       "    <tr>\n",
       "      <th>2</th>\n",
       "      <td>Punjabi Angithi</td>\n",
       "      <td>84, Ground Floor, Left Corner, Behind Hero Sho...</td>\n",
       "      <td>911149952492</td>\n",
       "      <td>4.0</td>\n",
       "      <td>200</td>\n",
       "      <td>Chilly Momo|Veg Noodles|Dal|Momos|</td>\n",
       "      <td>South Delhi</td>\n",
       "      <td>0.0</td>\n",
       "      <td>0.0</td>\n",
       "      <td>1.0</td>\n",
       "      <td>...</td>\n",
       "      <td>0.0</td>\n",
       "      <td>0.0</td>\n",
       "      <td>1.0</td>\n",
       "      <td>1.0</td>\n",
       "      <td>0.0</td>\n",
       "      <td>1.0</td>\n",
       "      <td>1.0</td>\n",
       "      <td>0.0</td>\n",
       "      <td>5.0</td>\n",
       "      <td>Low Rating and Low Cost</td>\n",
       "    </tr>\n",
       "    <tr>\n",
       "      <th>3</th>\n",
       "      <td>Chicago Pizza</td>\n",
       "      <td>8-A, Hauz Khas Village, New Delhi</td>\n",
       "      <td>919540937301</td>\n",
       "      <td>3.7</td>\n",
       "      <td>700</td>\n",
       "      <td>Paneer Delight Pizza|Chicago Pizza|Pizzas|Drink|</td>\n",
       "      <td>South Delhi</td>\n",
       "      <td>1.0</td>\n",
       "      <td>1.0</td>\n",
       "      <td>0.0</td>\n",
       "      <td>...</td>\n",
       "      <td>1.0</td>\n",
       "      <td>0.0</td>\n",
       "      <td>1.0</td>\n",
       "      <td>0.0</td>\n",
       "      <td>1.0</td>\n",
       "      <td>0.0</td>\n",
       "      <td>1.0</td>\n",
       "      <td>0.0</td>\n",
       "      <td>5.0</td>\n",
       "      <td>Low Rating and High Cost</td>\n",
       "    </tr>\n",
       "    <tr>\n",
       "      <th>4</th>\n",
       "      <td>BOX8 - Desi Meals</td>\n",
       "      <td>F5, Ground Floor, Gautam Nagar, Gulmohar Park ...</td>\n",
       "      <td>918068172526</td>\n",
       "      <td>4.3</td>\n",
       "      <td>250</td>\n",
       "      <td>NaN</td>\n",
       "      <td>South Delhi</td>\n",
       "      <td>0.0</td>\n",
       "      <td>0.0</td>\n",
       "      <td>0.0</td>\n",
       "      <td>...</td>\n",
       "      <td>0.0</td>\n",
       "      <td>0.0</td>\n",
       "      <td>0.0</td>\n",
       "      <td>1.0</td>\n",
       "      <td>0.0</td>\n",
       "      <td>0.0</td>\n",
       "      <td>0.0</td>\n",
       "      <td>0.0</td>\n",
       "      <td>1.0</td>\n",
       "      <td>High Rating and Low Cost</td>\n",
       "    </tr>\n",
       "    <tr>\n",
       "      <th>...</th>\n",
       "      <td>...</td>\n",
       "      <td>...</td>\n",
       "      <td>...</td>\n",
       "      <td>...</td>\n",
       "      <td>...</td>\n",
       "      <td>...</td>\n",
       "      <td>...</td>\n",
       "      <td>...</td>\n",
       "      <td>...</td>\n",
       "      <td>...</td>\n",
       "      <td>...</td>\n",
       "      <td>...</td>\n",
       "      <td>...</td>\n",
       "      <td>...</td>\n",
       "      <td>...</td>\n",
       "      <td>...</td>\n",
       "      <td>...</td>\n",
       "      <td>...</td>\n",
       "      <td>...</td>\n",
       "      <td>...</td>\n",
       "      <td>...</td>\n",
       "    </tr>\n",
       "    <tr>\n",
       "      <th>196</th>\n",
       "      <td>Hira Sweets</td>\n",
       "      <td>K 19/21, Connaught Place, New Delhi</td>\n",
       "      <td>919136587253</td>\n",
       "      <td>4.2</td>\n",
       "      <td>500</td>\n",
       "      <td>Paneer Dhokla|Kalakand|Deluxe Thali|Rasgulla|R...</td>\n",
       "      <td>Central Delhi</td>\n",
       "      <td>0.0</td>\n",
       "      <td>0.0</td>\n",
       "      <td>0.0</td>\n",
       "      <td>...</td>\n",
       "      <td>0.0</td>\n",
       "      <td>0.0</td>\n",
       "      <td>1.0</td>\n",
       "      <td>0.0</td>\n",
       "      <td>0.0</td>\n",
       "      <td>1.0</td>\n",
       "      <td>1.0</td>\n",
       "      <td>0.0</td>\n",
       "      <td>3.0</td>\n",
       "      <td>High Rating and Medium Cost</td>\n",
       "    </tr>\n",
       "    <tr>\n",
       "      <th>197</th>\n",
       "      <td>Sandoz</td>\n",
       "      <td>L-9, Ground Floor, Connaught Place, New Delhi</td>\n",
       "      <td>918595951359</td>\n",
       "      <td>4.2</td>\n",
       "      <td>800</td>\n",
       "      <td>Fruit Punch Mocktail|Bhatti Chicken|Handi Chic...</td>\n",
       "      <td>Central Delhi</td>\n",
       "      <td>0.0</td>\n",
       "      <td>1.0</td>\n",
       "      <td>0.0</td>\n",
       "      <td>...</td>\n",
       "      <td>1.0</td>\n",
       "      <td>0.0</td>\n",
       "      <td>1.0</td>\n",
       "      <td>0.0</td>\n",
       "      <td>0.0</td>\n",
       "      <td>0.0</td>\n",
       "      <td>0.0</td>\n",
       "      <td>0.0</td>\n",
       "      <td>3.0</td>\n",
       "      <td>High Rating and High Cost</td>\n",
       "    </tr>\n",
       "    <tr>\n",
       "      <th>198</th>\n",
       "      <td>Sita Ram Diwan Chand</td>\n",
       "      <td>2243, Chuna Mandi, Raj Guru Road, Paharganj, N...</td>\n",
       "      <td>911123587380</td>\n",
       "      <td>4.1</td>\n",
       "      <td>0</td>\n",
       "      <td>Legendary choley bhature|</td>\n",
       "      <td>Central Delhi</td>\n",
       "      <td>0.0</td>\n",
       "      <td>0.0</td>\n",
       "      <td>0.0</td>\n",
       "      <td>...</td>\n",
       "      <td>0.0</td>\n",
       "      <td>1.0</td>\n",
       "      <td>1.0</td>\n",
       "      <td>1.0</td>\n",
       "      <td>0.0</td>\n",
       "      <td>1.0</td>\n",
       "      <td>0.0</td>\n",
       "      <td>1.0</td>\n",
       "      <td>4.0</td>\n",
       "      <td>High Rating and Low Cost</td>\n",
       "    </tr>\n",
       "    <tr>\n",
       "      <th>199</th>\n",
       "      <td>Swagat Dhaba</td>\n",
       "      <td>5137, Main Bazaar, Paharganj, New Delhi</td>\n",
       "      <td>918929734255</td>\n",
       "      <td>4.1</td>\n",
       "      <td>300</td>\n",
       "      <td>NaN</td>\n",
       "      <td>Central Delhi</td>\n",
       "      <td>0.0</td>\n",
       "      <td>0.0</td>\n",
       "      <td>0.0</td>\n",
       "      <td>...</td>\n",
       "      <td>0.0</td>\n",
       "      <td>0.0</td>\n",
       "      <td>1.0</td>\n",
       "      <td>1.0</td>\n",
       "      <td>0.0</td>\n",
       "      <td>1.0</td>\n",
       "      <td>1.0</td>\n",
       "      <td>0.0</td>\n",
       "      <td>5.0</td>\n",
       "      <td>High Rating and Medium Cost</td>\n",
       "    </tr>\n",
       "    <tr>\n",
       "      <th>200</th>\n",
       "      <td>Nukkad Ramji Samosa Wala</td>\n",
       "      <td>2E/6, Moti Bhavan, Near Jhandewalan Metro Stat...</td>\n",
       "      <td>919899105636</td>\n",
       "      <td>3.9</td>\n",
       "      <td>50</td>\n",
       "      <td>NaN</td>\n",
       "      <td>Central Delhi</td>\n",
       "      <td>0.0</td>\n",
       "      <td>0.0</td>\n",
       "      <td>0.0</td>\n",
       "      <td>...</td>\n",
       "      <td>0.0</td>\n",
       "      <td>0.0</td>\n",
       "      <td>0.0</td>\n",
       "      <td>0.0</td>\n",
       "      <td>0.0</td>\n",
       "      <td>0.0</td>\n",
       "      <td>0.0</td>\n",
       "      <td>0.0</td>\n",
       "      <td>0.0</td>\n",
       "      <td>Low Rating and Low Cost</td>\n",
       "    </tr>\n",
       "  </tbody>\n",
       "</table>\n",
       "<p>201 rows × 59 columns</p>\n",
       "</div>"
      ],
      "text/plain": [
       "                         Name  \\\n",
       "0                   Pizza Hut   \n",
       "1                   RollsKing   \n",
       "2             Punjabi Angithi   \n",
       "3               Chicago Pizza   \n",
       "4           BOX8 - Desi Meals   \n",
       "..                        ...   \n",
       "196               Hira Sweets   \n",
       "197                    Sandoz   \n",
       "198      Sita Ram Diwan Chand   \n",
       "199              Swagat Dhaba   \n",
       "200  Nukkad Ramji Samosa Wala   \n",
       "\n",
       "                                               Address         Phone  Rating  \\\n",
       "0     17 & 18, Corner Market, Malviya Nagar, New Delhi  918929647587     3.7   \n",
       "1             Shop 2, 10/127, Malviya Nagar, New Delhi  919560101636     3.9   \n",
       "2    84, Ground Floor, Left Corner, Behind Hero Sho...  911149952492     4.0   \n",
       "3                    8-A, Hauz Khas Village, New Delhi  919540937301     3.7   \n",
       "4    F5, Ground Floor, Gautam Nagar, Gulmohar Park ...  918068172526     4.3   \n",
       "..                                                 ...           ...     ...   \n",
       "196                K 19/21, Connaught Place, New Delhi  919136587253     4.2   \n",
       "197      L-9, Ground Floor, Connaught Place, New Delhi  918595951359     4.2   \n",
       "198  2243, Chuna Mandi, Raj Guru Road, Paharganj, N...  911123587380     4.1   \n",
       "199            5137, Main Bazaar, Paharganj, New Delhi  918929734255     4.1   \n",
       "200  2E/6, Moti Bhavan, Near Jhandewalan Metro Stat...  919899105636     3.9   \n",
       "\n",
       "     AvgCost                                     Popular Dishes  \\\n",
       "0        800                                                NaN   \n",
       "1        300                                                NaN   \n",
       "2        200                 Chilly Momo|Veg Noodles|Dal|Momos|   \n",
       "3        700   Paneer Delight Pizza|Chicago Pizza|Pizzas|Drink|   \n",
       "4        250                                                NaN   \n",
       "..       ...                                                ...   \n",
       "196      500  Paneer Dhokla|Kalakand|Deluxe Thali|Rasgulla|R...   \n",
       "197      800  Fruit Punch Mocktail|Bhatti Chicken|Handi Chic...   \n",
       "198        0                          Legendary choley bhature|   \n",
       "199      300                                                NaN   \n",
       "200       50                                                NaN   \n",
       "\n",
       "          Location  Pizza  Fast Food  Pasta  ...  Dine-In  Hygiene  Delivery  \\\n",
       "0      South Delhi    1.0        1.0    1.0  ...      0.0      0.0       1.0   \n",
       "1      South Delhi    0.0        1.0    0.0  ...      1.0      0.0       1.0   \n",
       "2      South Delhi    0.0        0.0    1.0  ...      0.0      0.0       1.0   \n",
       "3      South Delhi    1.0        1.0    0.0  ...      1.0      0.0       1.0   \n",
       "4      South Delhi    0.0        0.0    0.0  ...      0.0      0.0       0.0   \n",
       "..             ...    ...        ...    ...  ...      ...      ...       ...   \n",
       "196  Central Delhi    0.0        0.0    0.0  ...      0.0      0.0       1.0   \n",
       "197  Central Delhi    0.0        1.0    0.0  ...      1.0      0.0       1.0   \n",
       "198  Central Delhi    0.0        0.0    0.0  ...      0.0      1.0       1.0   \n",
       "199  Central Delhi    0.0        0.0    0.0  ...      0.0      0.0       1.0   \n",
       "200  Central Delhi    0.0        0.0    0.0  ...      0.0      0.0       0.0   \n",
       "\n",
       "     Good Food  Ambiance  Value For Money  Packaging  Healthy  \\\n",
       "0          1.0       1.0              1.0        0.0      0.0   \n",
       "1          1.0       0.0              1.0        0.0      0.0   \n",
       "2          1.0       0.0              1.0        1.0      0.0   \n",
       "3          0.0       1.0              0.0        1.0      0.0   \n",
       "4          1.0       0.0              0.0        0.0      0.0   \n",
       "..         ...       ...              ...        ...      ...   \n",
       "196        0.0       0.0              1.0        1.0      0.0   \n",
       "197        0.0       0.0              0.0        0.0      0.0   \n",
       "198        1.0       0.0              1.0        0.0      1.0   \n",
       "199        1.0       0.0              1.0        1.0      0.0   \n",
       "200        0.0       0.0              0.0        0.0      0.0   \n",
       "\n",
       "     review_tags_count          cluster_description  \n",
       "0                  5.0     Low Rating and High Cost  \n",
       "1                  5.0   Low Rating and Medium Cost  \n",
       "2                  5.0      Low Rating and Low Cost  \n",
       "3                  5.0     Low Rating and High Cost  \n",
       "4                  1.0     High Rating and Low Cost  \n",
       "..                 ...                          ...  \n",
       "196                3.0  High Rating and Medium Cost  \n",
       "197                3.0    High Rating and High Cost  \n",
       "198                4.0     High Rating and Low Cost  \n",
       "199                5.0  High Rating and Medium Cost  \n",
       "200                0.0      Low Rating and Low Cost  \n",
       "\n",
       "[201 rows x 59 columns]"
      ]
     },
     "execution_count": 15,
     "metadata": {},
     "output_type": "execute_result"
    }
   ],
   "source": [
    "data_new"
   ]
  },
  {
   "cell_type": "code",
   "execution_count": 16,
   "metadata": {},
   "outputs": [
    {
     "data": {
      "text/plain": [
       "<AxesSubplot:xlabel='review_tags_count'>"
      ]
     },
     "execution_count": 16,
     "metadata": {},
     "output_type": "execute_result"
    },
    {
     "data": {
      "image/png": "[encoded data removed]",
      "text/plain": [
       "<Figure size 640x480 with 1 Axes>"
      ]
     },
     "metadata": {},
     "output_type": "display_data"
    }
   ],
   "source": [
    "sns.boxplot(x=data_new['review_tags_count'])"
   ]
  },
  {
   "cell_type": "code",
   "execution_count": 17,
   "metadata": {},
   "outputs": [
    {
     "data": {
      "text/plain": [
       "Index(['Name', 'Address', 'Phone', 'Rating', 'AvgCost', 'Popular Dishes',\n",
       "       'Location', 'Pizza', 'Fast Food', 'Pasta', 'Beverages', 'Desserts',\n",
       "       'Rolls', 'North Indian', 'Chinese', 'Momos', 'Street Food', 'Biryani',\n",
       "       'South Indian', 'Mithai', 'Wraps', 'Burger', 'Bakery', 'Tea',\n",
       "       'Sandwich', 'Mughlai', 'Kebab', 'Hyderabadi', 'Healthy Food', 'Salad',\n",
       "       'Coffee', 'Lucknowi', 'Sichuan', 'Continental', 'American', 'Tibetan',\n",
       "       'Maharashtrian', 'Andhra', 'Cafe', 'Asian', 'Shake', 'Italian',\n",
       "       'Seafood', 'Kerala', 'Ice Cream', 'Mexican', 'Juices',\n",
       "       'cuisine_tag_count', 'Good Service', 'Dine-In', 'Hygiene', 'Delivery',\n",
       "       'Good Food', 'Ambiance', 'Value For Money', 'Packaging', 'Healthy',\n",
       "       'review_tags_count', 'cluster_description'],\n",
       "      dtype='object')"
      ]
     },
     "execution_count": 17,
     "metadata": {},
     "output_type": "execute_result"
    }
   ],
   "source": [
    "data_new.columns"
   ]
  },
  {
   "cell_type": "code",
   "execution_count": 22,
   "metadata": {},
   "outputs": [],
   "source": [
    "temp = data_new.iloc[:, 7:-2]\n",
    "counts = []\n",
    "cols = []\n",
    "\n",
    "for x in temp.columns:\n",
    "    cols.append(x)\n",
    "    counts.append((temp[x] == 1).sum())"
   ]
  },
  {
   "cell_type": "code",
   "execution_count": 25,
   "metadata": {},
   "outputs": [
    {
     "data": {
      "text/plain": [
       "<AxesSubplot:>"
      ]
     },
     "execution_count": 25,
     "metadata": {},
     "output_type": "execute_result"
    },
    {
     "data": {
      "image/png": "[encoded data removed]",
      "text/plain": [
       "<Figure size 1000x500 with 1 Axes>"
      ]
     },
     "metadata": {},
     "output_type": "display_data"
    }
   ],
   "source": [
    "plt.figure(figsize=(10, 5))\n",
    "ax = plt.gca()\n",
    "ax.tick_params(axis='x', rotation=90)\n",
    "sns.barplot(x=cols, y=counts)"
   ]
  },
  {
   "cell_type": "code",
   "execution_count": 31,
   "metadata": {},
   "outputs": [
    {
     "data": {
      "text/plain": [
       "array(['Low Rating and High Cost', 'Low Rating and Medium Cost',\n",
       "       'Low Rating and Low Cost', 'High Rating and Low Cost',\n",
       "       'High Rating and Medium Cost', 'High Rating and High Cost'],\n",
       "      dtype=object)"
      ]
     },
     "execution_count": 31,
     "metadata": {},
     "output_type": "execute_result"
    }
   ],
   "source": [
    "data_new['cluster_description'].unique()"
   ]
  },
  {
   "cell_type": "code",
   "execution_count": null,
   "metadata": {},
   "outputs": [],
   "source": []
  }
 ],
 "metadata": {
  "kernelspec": {
   "display_name": "Python 3.8.7 64-bit",
   "language": "python",
   "name": "python3"
  },
  "language_info": {
   "codemirror_mode": {
    "name": "ipython",
    "version": 3
   },
   "file_extension": ".py",
   "mimetype": "text/x-python",
   "name": "python",
   "nbconvert_exporter": "python",
   "pygments_lexer": "ipython3",
   "version": "3.8.7"
  },
  "orig_nbformat": 4,
  "vscode": {
   "interpreter": {
    "hash": "affa1e01f2d63dc644a5d836267b8cc21782c0351696aa19b5d442d7e4c7d376"
   }
  }
 },
 "nbformat": 4,
 "nbformat_minor": 2
}
