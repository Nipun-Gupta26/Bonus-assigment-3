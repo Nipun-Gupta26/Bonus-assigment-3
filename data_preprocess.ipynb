{
 "cells": [
  {
   "cell_type": "code",
   "execution_count": 62,
   "metadata": {},
   "outputs": [],
   "source": [
    "import pandas as pd\n",
    "import numpy as np\n",
    "import matplotlib.pyplot as plt"
   ]
  },
  {
   "cell_type": "code",
   "execution_count": 63,
   "metadata": {},
   "outputs": [],
   "source": [
    "data = pd.read_csv(r'C:\\Users\\ATHARVA\\Documents\\coding practice\\DMG Bonus\\Bonus-assigment-3\\zomatoData.csv',sep=\",\")"
   ]
  },
  {
   "cell_type": "code",
   "execution_count": 64,
   "metadata": {},
   "outputs": [
    {
     "data": {
      "text/html": [
       "<div>\n",
       "<style scoped>\n",
       "    .dataframe tbody tr th:only-of-type {\n",
       "        vertical-align: middle;\n",
       "    }\n",
       "\n",
       "    .dataframe tbody tr th {\n",
       "        vertical-align: top;\n",
       "    }\n",
       "\n",
       "    .dataframe thead th {\n",
       "        text-align: right;\n",
       "    }\n",
       "</style>\n",
       "<table border=\"1\" class=\"dataframe\">\n",
       "  <thead>\n",
       "    <tr style=\"text-align: right;\">\n",
       "      <th></th>\n",
       "      <th>Name</th>\n",
       "      <th>Address</th>\n",
       "      <th>Phone</th>\n",
       "      <th>Rating</th>\n",
       "      <th>AvgCost</th>\n",
       "      <th>Known For</th>\n",
       "      <th>Popular Dishes</th>\n",
       "      <th>Cuisine</th>\n",
       "      <th>Reviews</th>\n",
       "    </tr>\n",
       "  </thead>\n",
       "  <tbody>\n",
       "    <tr>\n",
       "      <th>0</th>\n",
       "      <td>Pizza Hut</td>\n",
       "      <td>17 &amp; 18, Corner Market, Malviya Nagar, New Delhi</td>\n",
       "      <td>918929647587</td>\n",
       "      <td>3.7</td>\n",
       "      <td>800</td>\n",
       "      <td>Casual Seating Area|Prompt Service|Reasonable ...</td>\n",
       "      <td>NaN</td>\n",
       "      <td>Pizza|Fast Food|Pasta|Beverages|Desserts|</td>\n",
       "      <td>Dining|Delivery|Casual Seating Area|Prompt Ser...</td>\n",
       "    </tr>\n",
       "    <tr>\n",
       "      <th>1</th>\n",
       "      <td>RollsKing</td>\n",
       "      <td>Shop 2, 10/127, Malviya Nagar, New Delhi</td>\n",
       "      <td>919560101636</td>\n",
       "      <td>3.9</td>\n",
       "      <td>300</td>\n",
       "      <td>Pocket Friendly|Tasty|Contactless Delivery|Bes...</td>\n",
       "      <td>NaN</td>\n",
       "      <td>Rolls|Fast Food|North Indian|Beverages|</td>\n",
       "      <td>Dining|Delivery|Pocket Friendly|Tasty|Contactl...</td>\n",
       "    </tr>\n",
       "    <tr>\n",
       "      <th>2</th>\n",
       "      <td>Punjabi Angithi</td>\n",
       "      <td>84, Ground Floor, Left Corner, Behind Hero Sho...</td>\n",
       "      <td>911149952492</td>\n",
       "      <td>4.0</td>\n",
       "      <td>200</td>\n",
       "      <td>Fast Delivery Service|Cute Packaging|Food Pres...</td>\n",
       "      <td>Chilly Momo|Veg Noodles|Dal|Momos|</td>\n",
       "      <td>North Indian|Chinese|Rolls|Momos|Street Food|P...</td>\n",
       "      <td>Chilly Momo|Veg Noodles|Dal|Momos|Fast Deliver...</td>\n",
       "    </tr>\n",
       "    <tr>\n",
       "      <th>3</th>\n",
       "      <td>Chicago Pizza</td>\n",
       "      <td>8-A, Hauz Khas Village, New Delhi</td>\n",
       "      <td>919540937301</td>\n",
       "      <td>3.7</td>\n",
       "      <td>700</td>\n",
       "      <td>Comforting Atmosphere|Spill Proof Packaging|Fr...</td>\n",
       "      <td>Paneer Delight Pizza|Chicago Pizza|Pizzas|Drink|</td>\n",
       "      <td>Pizza|Fast Food|</td>\n",
       "      <td>Dining|Delivery|Paneer Delight Pizza|Chicago P...</td>\n",
       "    </tr>\n",
       "    <tr>\n",
       "      <th>4</th>\n",
       "      <td>BOX8 - Desi Meals</td>\n",
       "      <td>F5, Ground Floor, Gautam Nagar, Gulmohar Park ...</td>\n",
       "      <td>918068172526</td>\n",
       "      <td>4.3</td>\n",
       "      <td>250</td>\n",
       "      <td>Customizable Food|Good Taste|Elaborate Menu|Fr...</td>\n",
       "      <td>NaN</td>\n",
       "      <td>North Indian|Biryani|Desserts|</td>\n",
       "      <td>Customizable Food|Good Taste|Elaborate Menu|Fr...</td>\n",
       "    </tr>\n",
       "  </tbody>\n",
       "</table>\n",
       "</div>"
      ],
      "text/plain": [
       "                Name                                            Address  \\\n",
       "0          Pizza Hut   17 & 18, Corner Market, Malviya Nagar, New Delhi   \n",
       "1          RollsKing           Shop 2, 10/127, Malviya Nagar, New Delhi   \n",
       "2    Punjabi Angithi  84, Ground Floor, Left Corner, Behind Hero Sho...   \n",
       "3      Chicago Pizza                  8-A, Hauz Khas Village, New Delhi   \n",
       "4  BOX8 - Desi Meals  F5, Ground Floor, Gautam Nagar, Gulmohar Park ...   \n",
       "\n",
       "          Phone  Rating  AvgCost  \\\n",
       "0  918929647587     3.7      800   \n",
       "1  919560101636     3.9      300   \n",
       "2  911149952492     4.0      200   \n",
       "3  919540937301     3.7      700   \n",
       "4  918068172526     4.3      250   \n",
       "\n",
       "                                           Known For  \\\n",
       "0  Casual Seating Area|Prompt Service|Reasonable ...   \n",
       "1  Pocket Friendly|Tasty|Contactless Delivery|Bes...   \n",
       "2  Fast Delivery Service|Cute Packaging|Food Pres...   \n",
       "3  Comforting Atmosphere|Spill Proof Packaging|Fr...   \n",
       "4  Customizable Food|Good Taste|Elaborate Menu|Fr...   \n",
       "\n",
       "                                     Popular Dishes  \\\n",
       "0                                               NaN   \n",
       "1                                               NaN   \n",
       "2                Chilly Momo|Veg Noodles|Dal|Momos|   \n",
       "3  Paneer Delight Pizza|Chicago Pizza|Pizzas|Drink|   \n",
       "4                                               NaN   \n",
       "\n",
       "                                             Cuisine  \\\n",
       "0          Pizza|Fast Food|Pasta|Beverages|Desserts|   \n",
       "1            Rolls|Fast Food|North Indian|Beverages|   \n",
       "2  North Indian|Chinese|Rolls|Momos|Street Food|P...   \n",
       "3                                   Pizza|Fast Food|   \n",
       "4                     North Indian|Biryani|Desserts|   \n",
       "\n",
       "                                             Reviews  \n",
       "0  Dining|Delivery|Casual Seating Area|Prompt Ser...  \n",
       "1  Dining|Delivery|Pocket Friendly|Tasty|Contactl...  \n",
       "2  Chilly Momo|Veg Noodles|Dal|Momos|Fast Deliver...  \n",
       "3  Dining|Delivery|Paneer Delight Pizza|Chicago P...  \n",
       "4  Customizable Food|Good Taste|Elaborate Menu|Fr...  "
      ]
     },
     "execution_count": 64,
     "metadata": {},
     "output_type": "execute_result"
    }
   ],
   "source": [
    "data.head()"
   ]
  },
  {
   "cell_type": "code",
   "execution_count": 65,
   "metadata": {},
   "outputs": [],
   "source": [
    "from sklearn.preprocessing import MinMaxScaler\n",
    "\n",
    "data['AvgCost'] = MinMaxScaler().fit_transform(data['AvgCost'].values.reshape(-1,1))\n",
    "data['Rating'] = MinMaxScaler().fit_transform(data['Rating'].values.reshape(-1,1))"
   ]
  },
  {
   "cell_type": "code",
   "execution_count": 66,
   "metadata": {},
   "outputs": [
    {
     "data": {
      "text/plain": [
       "<AxesSubplot:xlabel='Rating', ylabel='AvgCost'>"
      ]
     },
     "execution_count": 66,
     "metadata": {},
     "output_type": "execute_result"
    },
    {
     "data": {
      "image/png": "[encoded data removed]",
      "text/plain": [
       "<Figure size 432x288 with 1 Axes>"
      ]
     },
     "metadata": {
      "needs_background": "light"
     },
     "output_type": "display_data"
    }
   ],
   "source": [
    "import seaborn as sns\n",
    "sns.scatterplot(x=\"Rating\",y=\"AvgCost\",data=data)"
   ]
  },
  {
   "cell_type": "code",
   "execution_count": 67,
   "metadata": {},
   "outputs": [
    {
     "name": "stdout",
     "output_type": "stream",
     "text": [
      "<class 'pandas.core.frame.DataFrame'>\n",
      "RangeIndex: 201 entries, 0 to 200\n",
      "Data columns (total 9 columns):\n",
      " #   Column          Non-Null Count  Dtype  \n",
      "---  ------          --------------  -----  \n",
      " 0   Name            201 non-null    object \n",
      " 1   Address         201 non-null    object \n",
      " 2   Phone           201 non-null    int64  \n",
      " 3   Rating          201 non-null    float64\n",
      " 4   AvgCost         201 non-null    float64\n",
      " 5   Known For       161 non-null    object \n",
      " 6   Popular Dishes  107 non-null    object \n",
      " 7   Cuisine         175 non-null    object \n",
      " 8   Reviews         178 non-null    object \n",
      "dtypes: float64(2), int64(1), object(6)\n",
      "memory usage: 14.3+ KB\n"
     ]
    }
   ],
   "source": [
    "data.info()"
   ]
  },
  {
   "cell_type": "code",
   "execution_count": 68,
   "metadata": {},
   "outputs": [],
   "source": [
    "data2 = data.drop(['Name','Address','Phone','Known For','Cuisine','Reviews','Popular Dishes'],axis=1)"
   ]
  },
  {
   "cell_type": "code",
   "execution_count": 69,
   "metadata": {},
   "outputs": [
    {
     "data": {
      "image/png": "[encoded data removed]",
      "text/plain": [
       "<Figure size 432x288 with 1 Axes>"
      ]
     },
     "metadata": {
      "needs_background": "light"
     },
     "output_type": "display_data"
    }
   ],
   "source": [
    "from sklearn.cluster import AgglomerativeClustering\n",
    "\n",
    "hr = AgglomerativeClustering(n_clusters=3,affinity='euclidean',linkage='ward')\n",
    "hr.fit_predict(data2)\n",
    "\n",
    "hr.labels_\n",
    "data2['hue'] = hr.labels_\n",
    "\n",
    "sns.scatterplot(x=\"Rating\",y=\"AvgCost\",hue=\"hue\",data=data2)\n",
    "plt.show()"
   ]
  },
  {
   "cell_type": "code",
   "execution_count": 70,
   "metadata": {},
   "outputs": [],
   "source": [
    "data['Reviews'] = data['Reviews'].fillna('')\n",
    "\n",
    "list_of_reviews = data['Reviews'].tolist()\n",
    "sample_review = []\n",
    "\n",
    "for i in range(len(list_of_reviews)):\n",
    "    if list_of_reviews[i] != np.nan:\n",
    "        sample_review.append(list_of_reviews[i].split('|'))\n",
    "        \n",
    "for i in range(len(sample_review)):\n",
    "    for j in range(len(sample_review[i])):\n",
    "        sample_review[i][j] = sample_review[i][j].strip()\n",
    "    \n"
   ]
  },
  {
   "cell_type": "code",
   "execution_count": 71,
   "metadata": {},
   "outputs": [],
   "source": [
    "data['Cuisine'] = data['Cuisine'].fillna('')\n",
    "\n",
    "list_of_reviews = data['Cuisine'].tolist()\n",
    "sample_review = []\n",
    "\n",
    "for i in range(len(list_of_reviews)):\n",
    "    if list_of_reviews[i] != np.nan:\n",
    "        sample_review.append(list_of_reviews[i].split('|'))\n",
    "        \n",
    "for i in range(len(sample_review)):\n",
    "    for j in range(len(sample_review[i])):\n",
    "        sample_review[i][j] = sample_review[i][j].strip()"
   ]
  },
  {
   "cell_type": "code",
   "execution_count": 72,
   "metadata": {},
   "outputs": [
    {
     "name": "stdout",
     "output_type": "stream",
     "text": [
      "{'Pizza': 24, 'Fast Food': 86, 'Pasta': 9, 'Beverages': 66, 'Desserts': 46, '': 201, 'Rolls': 23, 'North Indian': 91, 'Chinese': 56, 'Momos': 20, 'Street Food': 46, 'Biryani': 29, 'South Indian': 34, 'Mithai': 13, 'Wraps': 7, 'Burger': 30, 'Bakery': 8, 'Tea': 1, 'Sandwich': 14, 'Mughlai': 24, 'Kebab': 14, 'Hyderabadi': 12, 'Healthy Food': 5, 'Salad': 5, 'Coffee': 9, 'Lucknowi': 3, 'Sichuan': 1, 'Continental': 4, 'American': 2, 'Tibetan': 1, 'Maharashtrian': 3, 'Andhra': 6, 'Cafe': 4, 'Asian': 2, 'Shake': 4, 'Italian': 2, 'Seafood': 2, 'Kerala': 2, 'Ice Cream': 3, 'Mexican': 1, 'Juices': 1}\n"
     ]
    }
   ],
   "source": [
    "dict = {}\n",
    "\n",
    "for i in range(len(sample_review)) : \n",
    "    for j in range(len(sample_review[i])) : \n",
    "        if sample_review[i][j] in dict : \n",
    "            dict[sample_review[i][j]] += 1\n",
    "        else : \n",
    "            dict[sample_review[i][j]] = 1\n",
    "            \n",
    "print(dict)"
   ]
  },
  {
   "cell_type": "code",
   "execution_count": 73,
   "metadata": {},
   "outputs": [],
   "source": [
    "for i in dict.keys() : \n",
    "    data[i] = np.zeros(len(data))\n",
    "    \n",
    "for i in range(len(sample_review)) :\n",
    "    for j in range(len(sample_review[i])) : \n",
    "        data.loc[i,sample_review[i][j]] = 1"
   ]
  },
  {
   "cell_type": "code",
   "execution_count": 76,
   "metadata": {},
   "outputs": [
    {
     "data": {
      "text/plain": [
       "0.0    178\n",
       "1.0     23\n",
       "Name: Rolls, dtype: int64"
      ]
     },
     "execution_count": 76,
     "metadata": {},
     "output_type": "execute_result"
    }
   ],
   "source": [
    "data['Rolls'].value_counts()"
   ]
  },
  {
   "cell_type": "code",
   "execution_count": null,
   "metadata": {},
   "outputs": [],
   "source": []
  }
 ],
 "metadata": {
  "kernelspec": {
   "display_name": "Python 3.10.1 64-bit",
   "language": "python",
   "name": "python3"
  },
  "language_info": {
   "codemirror_mode": {
    "name": "ipython",
    "version": 3
   },
   "file_extension": ".py",
   "mimetype": "text/x-python",
   "name": "python",
   "nbconvert_exporter": "python",
   "pygments_lexer": "ipython3",
   "version": "3.10.1"
  },
  "orig_nbformat": 4,
  "vscode": {
   "interpreter": {
    "hash": "a0af84517f063bd45ee1b19a234400ee758964e44992839b9bc74f9265a5dcad"
   }
  }
 },
 "nbformat": 4,
 "nbformat_minor": 2
}
